{
 "cells": [
  {
   "cell_type": "markdown",
   "id": "cc104c63-f84e-4028-aa88-3e28ad19e897",
   "metadata": {},
   "source": [
    "### Numpy Task"
   ]
  },
  {
   "cell_type": "code",
   "execution_count": 2,
   "id": "c86779c2-8bb8-4d87-ad33-ee2a5f639511",
   "metadata": {},
   "outputs": [
    {
     "name": "stdout",
     "output_type": "stream",
     "text": [
      "Q1.\n",
      "[ 1  2  3  4  5  6  7  8  9 10] int32\n"
     ]
    }
   ],
   "source": [
    "import numpy as np\n",
    "\n",
    "# 1~10까지의 요소를 ndarray에 담는다.\n",
    "print(\"Q1.\")\n",
    "ndarray1 = np.array([1, 2, 3, 4, 5, 6, 7, 8, 9, 10])\n",
    "print(ndarray1, ndarray1.dtype)"
   ]
  },
  {
   "cell_type": "code",
   "execution_count": 93,
   "id": "80238663-220c-4b7b-893f-2dd15c28580c",
   "metadata": {},
   "outputs": [
    {
     "name": "stdout",
     "output_type": "stream",
     "text": [
      "Q2.\n",
      "[[6 5]\n",
      " [4 3]\n",
      " [2 1]]\n"
     ]
    }
   ],
   "source": [
    "# 3행 2열 list를 ndarray에 담고, 각 요소는 순서대로 6, 5, 4, 3, 2, 1이다.\n",
    "print(\"Q2.\")\n",
    "ndarray1 = np.array([[6, 5], [4, 3], [2, 1]])\n",
    "print(ndarray1)"
   ]
  },
  {
   "cell_type": "code",
   "execution_count": 3,
   "id": "4f4fd73d-5162-45a6-b70a-1c2c072b5a48",
   "metadata": {},
   "outputs": [
    {
     "name": "stdout",
     "output_type": "stream",
     "text": [
      "Q3.\n",
      "[[10]\n",
      " [ 8]\n",
      " [ 6]\n",
      " [ 4]]\n"
     ]
    }
   ],
   "source": [
    "# 4행 1열 ndarray, 순서대로 10, 8, 6, 4를 담는다.\n",
    "# Transpose: 전치. 행과 열을 바꿔준다.\n",
    "print(\"Q3.\")\n",
    "# ndarray1 = np.array([[10], [8], [6], [4]])\n",
    "ndarray1 = np.array([[(5 - i) * 2 for i in range(4)]]).T\n",
    "print(ndarray1)"
   ]
  },
  {
   "cell_type": "code",
   "execution_count": 95,
   "id": "db73abe9-74a0-4166-9408-323a989ae3fa",
   "metadata": {},
   "outputs": [
    {
     "name": "stdout",
     "output_type": "stream",
     "text": [
      "Q4.\n",
      "[6, 7, 8, 9, 10, 11, 12, 13, 14, 15]\n"
     ]
    }
   ],
   "source": [
    "# 1~10까지의 요소를 ndarray에 담고, 각 요소에 5씩 더해준다.\n",
    "print(\"Q4.\")\n",
    "ndarray1 = np.arange(1, 11)\n",
    "print([i + 5 for i in ndarray1])"
   ]
  },
  {
   "cell_type": "code",
   "execution_count": 4,
   "id": "8f15c56c-382e-4783-b97f-30c9fad42f6e",
   "metadata": {},
   "outputs": [
    {
     "name": "stdout",
     "output_type": "stream",
     "text": [
      "Q5.\n",
      "[0 0 0 0 0 0 0 0 0 0] int32 (10,)\n"
     ]
    }
   ],
   "source": [
    "# axis 0이 10인 shape이면서 모든 원소가 0, dtype은 int32인 ndarray를 만든다.\n",
    "print(\"Q5.\")\n",
    "ndarray1 = np.zeros(10,) # 기본 타입 - float64\n",
    "ndarray2 = ndarray1.astype(np.int32)\n",
    "print(ndarray2, ndarray2.dtype, ndarray2.shape)"
   ]
  },
  {
   "cell_type": "code",
   "execution_count": 98,
   "id": "14be8f42-e578-4198-ba5d-25584f210ca1",
   "metadata": {},
   "outputs": [
    {
     "name": "stdout",
     "output_type": "stream",
     "text": [
      "Q6.\n",
      "[0 1 2 3 4] (5,)\n"
     ]
    }
   ],
   "source": [
    "# axis 0이 5, 각 요소기 0~4인 ndarray를 만든다.\n",
    "print(\"Q6.\")\n",
    "ndarray1 = np.arange(0, 5)\n",
    "print(ndarray1, ndarray1.shape)"
   ]
  },
  {
   "cell_type": "code",
   "execution_count": 6,
   "id": "f926b5c3-fd7c-4cff-8251-1610bcc67f79",
   "metadata": {},
   "outputs": [
    {
     "name": "stdout",
     "output_type": "stream",
     "text": [
      "Q7.\n",
      "[[ 0  1]\n",
      " [ 2  3]\n",
      " [ 4  5]\n",
      " [ 6  7]\n",
      " [ 8  9]\n",
      " [10 11]\n",
      " [12 13]\n",
      " [14 15]]\n"
     ]
    }
   ],
   "source": [
    "# 아래의 ndarray1이 주어졌을 때 순서대로 문제를 해결한다.\n",
    "ndarray1 = np.arange(0, 16)\n",
    "\n",
    "# 2 Dimension, axis 1은 2로 변경\n",
    "print(\"Q7.\")\n",
    "ndarray1_axis1_2 = ndarray1.reshape((-1, 2)) # -1: 자동 연산\n",
    "print(ndarray1_axis1_2)"
   ]
  },
  {
   "cell_type": "code",
   "execution_count": 8,
   "id": "ec807a53-3639-4b58-9984-27f8a2753869",
   "metadata": {},
   "outputs": [
    {
     "name": "stdout",
     "output_type": "stream",
     "text": [
      "Q8.\n",
      "[[ 0  1]\n",
      " [ 2  3]\n",
      " [ 4  5]\n",
      " [ 6  7]\n",
      " [ 8  9]\n",
      " [10 11]\n",
      " [12 13]\n",
      " [14 15]]\n"
     ]
    }
   ],
   "source": [
    "# 2 Dimension, axis 0은 8로 변경\n",
    "print(\"Q8.\")\n",
    "ndarray1_axis0_8 = ndarray1.reshape((8, -1))\n",
    "print(ndarray1_axis0_8)"
   ]
  },
  {
   "cell_type": "code",
   "execution_count": 7,
   "id": "b39f5c09-8e1d-4664-a441-cd409b5f2b36",
   "metadata": {},
   "outputs": [
    {
     "name": "stdout",
     "output_type": "stream",
     "text": [
      "Q8.\n",
      "[[[ 0  1  2  3]\n",
      "  [ 4  5  6  7]]\n",
      "\n",
      " [[ 8  9 10 11]\n",
      "  [12 13 14 15]]]\n"
     ]
    }
   ],
   "source": [
    "# 3 Dimension으로 변경\n",
    "print(\"Q8.\")\n",
    "ndarray3 = ndarray1.reshape((2, 2, -1))\n",
    "print(ndarray3)"
   ]
  },
  {
   "cell_type": "code",
   "execution_count": 102,
   "id": "a619cc9e-ea11-4335-81f6-d8bd925f2199",
   "metadata": {},
   "outputs": [
    {
     "name": "stdout",
     "output_type": "stream",
     "text": [
      "Q9.\n",
      "[[ 0]\n",
      " [ 1]\n",
      " [ 2]\n",
      " [ 3]\n",
      " [ 4]\n",
      " [ 5]\n",
      " [ 6]\n",
      " [ 7]\n",
      " [ 8]\n",
      " [ 9]\n",
      " [10]\n",
      " [11]\n",
      " [12]\n",
      " [13]\n",
      " [14]\n",
      " [15]]\n"
     ]
    }
   ],
   "source": [
    "# ndarray3을 axis 1이 1인 2차원 ndarray로 변환\n",
    "print(\"Q9.\")\n",
    "ndarray3_2d = ndarray3.reshape((-1, 1))\n",
    "print(ndarray3_2d)"
   ]
  },
  {
   "cell_type": "code",
   "execution_count": 103,
   "id": "3f15a7e8-d046-4e11-be57-e0469cb03fc9",
   "metadata": {},
   "outputs": [
    {
     "name": "stdout",
     "output_type": "stream",
     "text": [
      "Q10.\n",
      "[ 0  1  2  3  4  5  6  7  8  9 10 11 12 13 14 15]\n"
     ]
    }
   ],
   "source": [
    "# ndarray3을 1 Dimension으로 변환\n",
    "print(\"Q10.\")\n",
    "ndarray3_1d = ndarray3.reshape((-1, ))\n",
    "print(ndarray3_1d)"
   ]
  },
  {
   "cell_type": "code",
   "execution_count": 137,
   "id": "01ca24f5-5555-45eb-b782-d5b8fc2be614",
   "metadata": {},
   "outputs": [
    {
     "name": "stdout",
     "output_type": "stream",
     "text": [
      "Q11.\n",
      "[97]\n"
     ]
    }
   ],
   "source": [
    "# 1차원 ndarray 1~100까지 값 중 97 추출\n",
    "print(\"Q11.\")\n",
    "ndarray1 = np.arange(1, 101)\n",
    "ndarray1_97 = ndarray1[ndarray1 == 97]\n",
    "\n",
    "print(ndarray1_97)"
   ]
  },
  {
   "cell_type": "code",
   "execution_count": 105,
   "id": "c9150fd9-e294-46c7-8eec-65a2e9e0aff6",
   "metadata": {},
   "outputs": [
    {
     "name": "stdout",
     "output_type": "stream",
     "text": [
      "Q12.\n",
      "[15]\n"
     ]
    }
   ],
   "source": [
    "# 아래의 ndarray1이 주어졌을 때 순서대로 문제를 해결한다.\n",
    "ndarray1 = np.arange(1, 21)\n",
    "\n",
    "# 2차원 배열 axis 0은 4, axis 1은 5로, 1~20의 값 중 15 추출\n",
    "print(\"Q12.\")\n",
    "ndarray1_2d = ndarray1.reshape((4, 5))\n",
    "ndarray1_2d_15 = ndarray1_2d[ndarray1_2d == 15]\n",
    "\n",
    "print(ndarray1_2d_15)"
   ]
  },
  {
   "cell_type": "code",
   "execution_count": 106,
   "id": "c06a3770-35ca-4f91-9f44-c51cf33bc792",
   "metadata": {},
   "outputs": [
    {
     "name": "stdout",
     "output_type": "stream",
     "text": [
      "Q13.\n",
      "[[ 1  2  3  4]\n",
      " [ 5  6  7  8]\n",
      " [ 9 10 11 12]\n",
      " [13 14 15 16]\n",
      " [17 18 19 20]]\n"
     ]
    }
   ],
   "source": [
    "# 2 Dimension, axis 0은 5로 변경\n",
    "print(\"Q13.\")\n",
    "ndarray1_axis0_5 = ndarray1.reshape((5, -1))\n",
    "\n",
    "print(ndarray1_axis0_5)"
   ]
  },
  {
   "cell_type": "code",
   "execution_count": 107,
   "id": "d2523a53-af88-46e0-a6f7-c06be0997ba9",
   "metadata": {},
   "outputs": [
    {
     "name": "stdout",
     "output_type": "stream",
     "text": [
      "Q14.\n",
      "8\n"
     ]
    }
   ],
   "source": [
    "# 2번째 행의 4번째 숫자 출력\n",
    "print(\"Q14.\")\n",
    "ndarray1_axis0_5_13 = ndarray1_axis0_5[1, 3]\n",
    "\n",
    "print(ndarray1_axis0_5_13)"
   ]
  },
  {
   "cell_type": "code",
   "execution_count": 108,
   "id": "c3167bc1-b37f-4bef-bb91-4f02bddb45c2",
   "metadata": {},
   "outputs": [
    {
     "name": "stdout",
     "output_type": "stream",
     "text": [
      "Q15.\n",
      "[  2   4   6   8  10  12  14  16  18  20  22  24  26  28  30  32  34  36\n",
      "  38  40  42  44  46  48  50  52  54  56  58  60  62  64  66  68  70  72\n",
      "  74  76  78  80  82  84  86  88  90  92  94  96  98 100]\n"
     ]
    }
   ],
   "source": [
    "# 1~100 중 짝수만 출력\n",
    "print(\"Q15.\")\n",
    "ndarray1 = np.arange(start=2, stop=101, step=2)\n",
    "\n",
    "print(ndarray1)"
   ]
  },
  {
   "cell_type": "code",
   "execution_count": 115,
   "id": "9346e9cb-3bec-4fb3-b04b-a84fd5446e41",
   "metadata": {},
   "outputs": [
    {
     "name": "stdout",
     "output_type": "stream",
     "text": [
      "Q16.\n",
      "2차원 배열\n",
      "[[  2   4   6   8  10]\n",
      " [ 12  14  16  18  20]\n",
      " [ 22  24  26  28  30]\n",
      " [ 32  34  36  38  40]\n",
      " [ 42  44  46  48  50]\n",
      " [ 52  54  56  58  60]\n",
      " [ 62  64  66  68  70]\n",
      " [ 72  74  76  78  80]\n",
      " [ 82  84  86  88  90]\n",
      " [ 92  94  96  98 100]]\n",
      "\n",
      "추출 후 배열\n",
      "[[ 82  84  86  88  90]\n",
      " [ 92  94  96  98 100]]\n"
     ]
    }
   ],
   "source": [
    "# 위에서 구한 짝수들을 axis 0이 10인 2차원 배열로 변환 후, 82~100까지 추출\n",
    "print(\"Q16.\")\n",
    "ndarray2 = ndarray1.reshape((10, -1))\n",
    "print(\"2차원 배열\")\n",
    "print(ndarray2, end=\"\\n\\n\")\n",
    "\n",
    "ndarray2_sorted = ndarray2[-2:]\n",
    "\n",
    "print(\"추출 후 배열\")\n",
    "print(ndarray2_sorted)"
   ]
  },
  {
   "cell_type": "code",
   "execution_count": 147,
   "id": "660bc9cf-6119-456e-bedc-12cb8d7f4ad8",
   "metadata": {},
   "outputs": [
    {
     "name": "stdout",
     "output_type": "stream",
     "text": [
      "Q17.\n",
      "86의 위치: [0, 2]\n",
      "100의 위치: [1, 4]\n"
     ]
    }
   ],
   "source": [
    "# 위에서 구한 요소 중 (86, 100) 좌표 구하기\n",
    "print(\"Q17.\")\n",
    "\n",
    "# 각 요소의 좌표\n",
    "location86 = 0, 2\n",
    "location100 = 1, 4\n",
    "\n",
    "# ndarray2_sorted에서 특정 좌표에 있는 값 - 86, 100\n",
    "eighty_six = ndarray2_sorted[location86]\n",
    "hundred = ndarray2_sorted[location100]\n",
    "\n",
    "print(f'{eighty_six}의 위치: {list(location86)}')\n",
    "print(f'{hundred}의 위치: {list(location100)}')"
   ]
  },
  {
   "cell_type": "code",
   "execution_count": 9,
   "id": "6087c630-c72c-40f7-8b4a-4ccf992977b6",
   "metadata": {},
   "outputs": [
    {
     "name": "stdout",
     "output_type": "stream",
     "text": [
      "Q18.\n",
      "[ 2 12 22 32 42 52 62 72 82 92]\n"
     ]
    }
   ],
   "source": [
    "# 아래의 ndarray1이 주어졌을 때 순서대로 문제를 해결한다.\n",
    "ndarray1 = np.arange(1, 101)\n",
    "\n",
    "# 각 요소 중 1의 자리수가 2인 수들만 추출\n",
    "print(\"Q18.\")\n",
    "ndarray2 = ndarray1[ndarray1 % 10 == 2]\n",
    "\n",
    "print(ndarray2)"
   ]
  },
  {
   "cell_type": "code",
   "execution_count": 119,
   "id": "60be7336-b138-4269-ae5d-6d5bb10a9eb7",
   "metadata": {},
   "outputs": [
    {
     "name": "stdout",
     "output_type": "stream",
     "text": [
      "Q19.\n",
      "1~49까지의 배열\n",
      "[ 1  2  3  4  5  6  7  8  9 10 11 12 13 14 15 16 17 18 19 20 21 22 23 24\n",
      " 25 26 27 28 29 30 31 32 33 34 35 36 37 38 39 40 41 42 43 44 45 46 47 48\n",
      " 49]\n",
      "\n",
      "2와 5의 공배수\n",
      "[10 20 30 40]\n"
     ]
    }
   ],
   "source": [
    "# 1~49의 요소 중 2와 5의 공배수만 추출\n",
    "print(\"Q19.\")\n",
    "ndarray3 = ndarray1[ndarray1 < 50]\n",
    "\n",
    "print(\"1~49까지의 배열\")\n",
    "print(ndarray3, end=\"\\n\\n\")\n",
    "\n",
    "ndarray3_sorted = ndarray3[(ndarray3 % 2 == 0) & (ndarray3 % 5 == 0)]\n",
    "\n",
    "print(\"2와 5의 공배수\")\n",
    "print(ndarray3_sorted)"
   ]
  },
  {
   "cell_type": "code",
   "execution_count": 120,
   "id": "32c86aa8-b2f7-4a9b-9d17-5d9491e85ab2",
   "metadata": {},
   "outputs": [
    {
     "name": "stdout",
     "output_type": "stream",
     "text": [
      "Q20.\n",
      "[20 30 40]\n"
     ]
    }
   ],
   "source": [
    "# 위에서 추출한 공배수 중 20 이상인 값만 추출\n",
    "print(\"Q20.\")\n",
    "ndarray3_resorted = ndarray3_sorted[ndarray3_sorted >= 20]\n",
    "\n",
    "print(ndarray3_resorted)"
   ]
  },
  {
   "cell_type": "code",
   "execution_count": 148,
   "id": "9ded37ab-6bfa-4fff-8da3-919856cfb963",
   "metadata": {},
   "outputs": [
    {
     "name": "stdout",
     "output_type": "stream",
     "text": [
      "Q21.\n",
      "가격별 내림차순 정렬 된 과일 리스트: ['Melon' 'Peach' 'Pear' 'Apple' 'Mango']\n"
     ]
    }
   ],
   "source": [
    "# 데이터를 분석하여, 각 수치별 오름차순 및 내림차순 후 이름을 출력하세요.\n",
    "# [[과일이름], [가격]], 가격별 내림차순\n",
    "array1 = [['Mango', 'Apple', 'Pear', 'Peach', 'Melon'], [1500, 1800, 2000, 2500, 8500]]\n",
    "\n",
    "print(\"Q21.\")\n",
    "\n",
    "# 과일 배열 추출 - numpy.ndarray 타입으로 바꿔야 팬시 인덱싱 사용 가능\n",
    "fruits = np.array(array1[0])\n",
    "# print(fruits, type(fruits))\n",
    "\n",
    "# 가격 배열 추출\n",
    "prices = array1[1]\n",
    "# print(prices)\n",
    "\n",
    "prices_rank = np.argsort(prices)[::-1]\n",
    "# print(prices_rank)\n",
    "\n",
    "print(f'가격별 내림차순 정렬 된 과일 리스트: {fruits[prices_rank]}')"
   ]
  },
  {
   "cell_type": "code",
   "execution_count": 144,
   "id": "77537c28-0ad8-465c-8631-6634722ac084",
   "metadata": {},
   "outputs": [
    {
     "name": "stdout",
     "output_type": "stream",
     "text": [
      "Q22.\n",
      "나이별 내림차순으로 정렬된 학생들: ['길동' '마이콜' '또치' '둘리' '도너']\n",
      "등급별 오름차순으로 정렬된 학생들: ['또치' '길동' '둘리' '마이콜' '도너']\n"
     ]
    }
   ],
   "source": [
    "# [[이름], [나이], [학점]], 나이별 내림차순, 학점별 오름차순\n",
    "array2 = [['둘리', '또치', '길동', '도너', '마이콜'], [7, 9, 40, 5, 20], ['C', 'A', 'B', 'F', 'D']]\n",
    "\n",
    "print(\"Q22.\")\n",
    "\n",
    "# 학생 리스트 - numpy.ndarray 타입\n",
    "students = np.array(array2[0])\n",
    "\n",
    "# 나이 리스트\n",
    "ages = array2[1]\n",
    "\n",
    "# 나이 리스트 정렬 순서\n",
    "age_rank = np.argsort(ages)[::-1]\n",
    "\n",
    "# 학점 리스트\n",
    "grades = array2[2]\n",
    "\n",
    "# 학점 리스트 정렬 순서\n",
    "grade_rank = np.argsort(grades)\n",
    "\n",
    "print(f'나이별 내림차순으로 정렬된 학생들: {students[age_rank]}')\n",
    "print(f'등급별 오름차순으로 정렬된 학생들: {students[grade_rank]}')"
   ]
  },
  {
   "cell_type": "code",
   "execution_count": 133,
   "id": "7436900b-4457-493a-8b61-619caa62f305",
   "metadata": {},
   "outputs": [
    {
     "name": "stdout",
     "output_type": "stream",
     "text": [
      "GDP 성장률별 오름차순으로 정렬된 국가들: ['영국' '러시아' '남아프리카 공화국' '미국' '한국']\n"
     ]
    }
   ],
   "source": [
    "# [[국가이름], [GDP 성장률]], GDP 성장률별 오름차순\n",
    "array3 = [['한국', '영국', '러시아', '남아프리카 공화국', '미국'], ['1.7%', '-0.6%', '0.3%', '1.2%', '1.4%']]\n",
    "\n",
    "# 국가 리스트 - numpy.ndarray 타입\n",
    "countries = np.array(array3[0])\n",
    "\n",
    "# GDP 성장률 리스트\n",
    "gdp_growth = array3[1]\n",
    "\n",
    "# GDP 성장률 리스트 정렬 순서\n",
    "gdp_growth_rank = np.argsort(gdp_growth)\n",
    "# print(gdp_growth_rank)\n",
    "\n",
    "print(f'GDP 성장률별 오름차순으로 정렬된 국가들: {countries[gdp_growth_rank]}')"
   ]
  }
 ],
 "metadata": {
  "kernelspec": {
   "display_name": "Python 3 (ipykernel)",
   "language": "python",
   "name": "python3"
  },
  "language_info": {
   "codemirror_mode": {
    "name": "ipython",
    "version": 3
   },
   "file_extension": ".py",
   "mimetype": "text/x-python",
   "name": "python",
   "nbconvert_exporter": "python",
   "pygments_lexer": "ipython3",
   "version": "3.11.8"
  }
 },
 "nbformat": 4,
 "nbformat_minor": 5
}
